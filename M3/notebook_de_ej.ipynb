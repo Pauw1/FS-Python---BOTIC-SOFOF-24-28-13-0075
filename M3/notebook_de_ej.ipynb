{
 "cells": [
  {
   "cell_type": "markdown",
   "id": "fb09caa4",
   "metadata": {},
   "source": [
    "# Este es un notebook\n",
    "## es muy interesante"
   ]
  },
  {
   "cell_type": "markdown",
   "id": "302cb045",
   "metadata": {},
   "source": [
    "esto podria ser una explicacion o intro "
   ]
  },
  {
   "cell_type": "code",
   "execution_count": 1,
   "id": "c3c16eae",
   "metadata": {},
   "outputs": [
    {
     "data": {
      "text/plain": [
       "11"
      ]
     },
     "execution_count": 1,
     "metadata": {},
     "output_type": "execute_result"
    }
   ],
   "source": [
    "10+1"
   ]
  },
  {
   "cell_type": "code",
   "execution_count": 2,
   "id": "d60d6bb5",
   "metadata": {},
   "outputs": [],
   "source": [
    "#vamos a crear variables para poder hacer operaciones\n",
    "a = 10\n",
    "b = 1\n",
    "#ahora vamos a hacer una operacion de suma\n",
    "suma = a + b\n"
   ]
  },
  {
   "cell_type": "code",
   "execution_count": 3,
   "id": "82c35ea8",
   "metadata": {},
   "outputs": [
    {
     "name": "stdout",
     "output_type": "stream",
     "text": [
      "La suma de 10 y 1 es: 11\n"
     ]
    }
   ],
   "source": [
    "print(\"La suma de\", a, \"y\", b, \"es:\", suma)"
   ]
  },
  {
   "cell_type": "code",
   "execution_count": null,
   "id": "a747cb6a",
   "metadata": {},
   "outputs": [],
   "source": [
    "x=10\n",
    "y=9\n",
    "if y == 10:\n",
    "    if x > 5:\n",
    "        print(\"x es mayor que 5\")\n",
    "else:\n",
    "    print(\"y no es igual a 10\")"
   ]
  },
  {
   "cell_type": "markdown",
   "id": "da438f10",
   "metadata": {},
   "source": [
    "## Veamos cómo funciona Pass:"
   ]
  },
  {
   "cell_type": "code",
   "execution_count": 10,
   "id": "c19b27fd",
   "metadata": {},
   "outputs": [],
   "source": [
    "if 1 < 2:\n",
    "    pass"
   ]
  },
  {
   "cell_type": "code",
   "execution_count": null,
   "id": "584c79e8",
   "metadata": {},
   "outputs": [],
   "source": [
    "def funcion_calculo_volumetrico():\n",
    "    \"\"\"Esta funcion calcula el volumen de un objeto dado su largo, ancho y alto.\"\"\"\n",
    "    pass\n",
    "def funcion_calculo_area():\n",
    "    \"\"\"Esta funcion calcula el area de un objeto dado su largo y ancho.\"\"\"\n",
    "    pass\n",
    "def funcion_calculo_perimetro():\n",
    "    \"\"\"Esta funcion calcula el perimetro de un objeto dado su largo y ancho.\"\"\"\n",
    "    pass"
   ]
  },
  {
   "cell_type": "code",
   "execution_count": 12,
   "id": "901a592a",
   "metadata": {},
   "outputs": [
    {
     "name": "stdout",
     "output_type": "stream",
     "text": [
      "55\n"
     ]
    }
   ],
   "source": [
    "import random\n",
    "print(random.randint(1, 100))"
   ]
  }
 ],
 "metadata": {
  "kernelspec": {
   "display_name": "base",
   "language": "python",
   "name": "python3"
  },
  "language_info": {
   "codemirror_mode": {
    "name": "ipython",
    "version": 3
   },
   "file_extension": ".py",
   "mimetype": "text/x-python",
   "name": "python",
   "nbconvert_exporter": "python",
   "pygments_lexer": "ipython3",
   "version": "3.12.7"
  }
 },
 "nbformat": 4,
 "nbformat_minor": 5
}
