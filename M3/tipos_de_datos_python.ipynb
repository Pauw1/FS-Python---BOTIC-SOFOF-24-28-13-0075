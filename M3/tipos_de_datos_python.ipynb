{
 "cells": [
  {
   "cell_type": "markdown",
   "id": "f0da641c",
   "metadata": {},
   "source": [
    "# 🌟 Notebook: Tipos de Datos en Python\n",
    "En este notebook aprenderás a identificar y trabajar con los tipos de datos más comunes en Python: booleanos, números, cadenas, listas, tuplas y diccionarios.\n",
    "Además, practicarás funciones como type() y len(), y realizarás ejercicios prácticos para afianzar tu conocimiento.\n",
    "### NO USES LLMS PARA ESTE EJERCICIO. \n",
    "\n",
    "Es importante practicar estas cosas solo, sin ayudas, ya que son cosas fundamentales."
   ]
  },
  {
   "cell_type": "code",
   "execution_count": null,
   "id": "c62ad0d0",
   "metadata": {},
   "outputs": [],
   "source": [
    "# ✅ Booleanos: representan valores de verdad True o False.\n",
    "mayor_edad = True\n",
    "tiene_bigote = False\n",
    "\n",
    "print(type(mayor_edad))\n",
    "print(type(tiene_bigote))"
   ]
  },
  {
   "cell_type": "code",
   "execution_count": null,
   "id": "7097741b",
   "metadata": {},
   "outputs": [],
   "source": [
    "# 📝 Ejercicio 1\n",
    "# Crea una variable llamada esta_soleado con el valor False. Luego imprime su tipo."
   ]
  },
  {
   "cell_type": "code",
   "execution_count": null,
   "id": "87fdb4bb",
   "metadata": {},
   "outputs": [],
   "source": [
    "# 🔢 Números: enteros (int) y decimales (float).\n",
    "edad = 25\n",
    "altura = 1.75\n",
    "\n",
    "print(type(edad))\n",
    "print(type(altura))"
   ]
  },
  {
   "cell_type": "code",
   "execution_count": null,
   "id": "98b55937",
   "metadata": {},
   "outputs": [],
   "source": [
    "# 📝 Ejercicio 2\n",
    "# Crea dos variables: poblacion con el número 1200000, y tasa_crecimiento con el valor 1.3. Imprime sus tipos."
   ]
  },
  {
   "cell_type": "code",
   "execution_count": null,
   "id": "86ffc22f",
   "metadata": {},
   "outputs": [],
   "source": [
    "# ✨ Strings: almacenan texto.\n",
    "mensaje = \"Hola, Python!\"\n",
    "print(type(mensaje))"
   ]
  },
  {
   "cell_type": "code",
   "execution_count": null,
   "id": "a02a4380",
   "metadata": {},
   "outputs": [],
   "source": [
    "# 📝 Ejercicio 3\n",
    "# Crea una variable llamada nombre con tu nombre y muestra el mensaje: \"Mi nombre es ...\" concatenando la variable.\n",
    "#Tanto de manera simple como con f-strings (interpolación de cadenas)."
   ]
  },
  {
   "cell_type": "code",
   "execution_count": null,
   "id": "a7641f42",
   "metadata": {},
   "outputs": [],
   "source": [
    "# 📋 Listas: colecciones ordenadas y mutables.\n",
    "frutas = [\"manzana\", \"banana\", \"cereza\"]\n",
    "print(frutas)\n",
    "\n",
    "frutas.append(\"kiwi\")\n",
    "print(frutas)\n",
    "\n",
    "frutas.pop(1)\n",
    "print(frutas)"
   ]
  },
  {
   "cell_type": "code",
   "execution_count": null,
   "id": "8c492d13",
   "metadata": {},
   "outputs": [],
   "source": [
    "# 📝 Ejercicio 4\n",
    "# Crea una lista llamada colores con al menos 3 colores. \n",
    "# Cambia el segundo color por \"rosado\" y elimina el último elemento. Imprime la lista en cada paso.\n",
    "# Investiga como usar otras funciones de listas como sort() o reverse().\n",
    "# Revisa como acceder al último elemento de una lista."
   ]
  },
  {
   "cell_type": "code",
   "execution_count": null,
   "id": "fde97d48",
   "metadata": {},
   "outputs": [],
   "source": [
    "# 📦 Tuplas: colecciones ordenadas e inmutables.\n",
    "coordenadas = (10.0, 20.0)\n",
    "print(coordenadas)\n",
    "\n",
    "# Intentar modificar una tupla produce un error:\n",
    "# coordenadas[0] = 15.0  # Descomenta para ver el error"
   ]
  },
  {
   "cell_type": "code",
   "execution_count": null,
   "id": "af57ee53",
   "metadata": {},
   "outputs": [],
   "source": [
    "# 📝 Ejercicio 5\n",
    "# Crea una tupla llamada datos_personales que contenga: tu nombre, tu edad y tu ciudad. Imprime el segundo elemento de la tupla. \n",
    "# Agrega dos elementos más a la tupla y accede al penúltimo elemento."
   ]
  },
  {
   "cell_type": "code",
   "execution_count": null,
   "id": "7f6b91a4",
   "metadata": {},
   "outputs": [],
   "source": [
    "# 🔑 Diccionarios: almacenan pares clave-valor.\n",
    "persona = {'nombre': 'Ana', 'edad': 28, 'altura': 1.65}\n",
    "\n",
    "print(persona)\n",
    "\n",
    "persona['nombre'] = 'Laura'\n",
    "persona['ocupacion'] = 'Ingeniera'\n",
    "\n",
    "print(persona)\n",
    "\n",
    "altura = persona.pop('altura')\n",
    "print(f\"Altura eliminada: {altura}\")\n",
    "print(persona)"
   ]
  },
  {
   "cell_type": "code",
   "execution_count": null,
   "id": "21a251bf",
   "metadata": {},
   "outputs": [],
   "source": [
    "# 📝 Ejercicio 6\n",
    "# Crea un diccionario llamado auto con las claves marca, modelo y año. Luego actualiza el valor de año y agrega la clave color. Imprime el diccionario en cada paso."
   ]
  },
  {
   "cell_type": "code",
   "execution_count": null,
   "id": "d6280a44",
   "metadata": {},
   "outputs": [],
   "source": [
    "# 🔎 Funciones type() y len():\n",
    "# type() devuelve el tipo de dato; len() devuelve la longitud de objetos iterables.\n",
    "lista_ejemplo = [1, 2, 3, 4]\n",
    "texto = \"Programar es divertido\"\n",
    "\n",
    "print(type(lista_ejemplo))\n",
    "print(len(lista_ejemplo))\n",
    "\n",
    "print(type(texto))\n",
    "print(len(texto))"
   ]
  },
  {
   "cell_type": "code",
   "execution_count": null,
   "id": "b8e6c976",
   "metadata": {},
   "outputs": [],
   "source": [
    "# 📝 Ejercicio 7\n",
    "# Crea una lista con al menos 5 elementos. Imprime su longitud y luego verifica el tipo de su longitud usando type()."
   ]
  },
  {
   "cell_type": "code",
   "execution_count": null,
   "id": "fd5c0e91",
   "metadata": {},
   "outputs": [],
   "source": [
    "# 🎲 Números aleatorios: con el módulo random puedes generar números al azar.\n",
    "import random\n",
    "\n",
    "num_aleatorio = random.randint(1, 100)\n",
    "print(f\"Número aleatorio entre 1 y 100: {num_aleatorio}\")"
   ]
  },
  {
   "cell_type": "code",
   "execution_count": null,
   "id": "622cb4ab",
   "metadata": {},
   "outputs": [],
   "source": [
    "# 📝 Ejercicio 8 (mediana complejidad)\n",
    "# Crea un programa que genere un número aleatorio entre 1 y 10. Luego, solicita al usuario que adivine el número. Si el número es correcto, muestra \"¡Adivinaste!\", si no, muestra el número correcto."
   ]
  },
  {
   "cell_type": "code",
   "execution_count": null,
   "id": "ca9a5438",
   "metadata": {},
   "outputs": [],
   "source": [
    "# 🔄 Conversión de tipos: int(), float() y complex().\n",
    "entero = 42\n",
    "decimal = float(entero)\n",
    "print(decimal)\n",
    "\n",
    "decimal2 = 15.8\n",
    "entero2 = int(decimal2)\n",
    "print(entero2)\n",
    "\n",
    "entero3 = 7\n",
    "complejo = complex(entero3)\n",
    "print(complejo)"
   ]
  },
  {
   "cell_type": "code",
   "execution_count": null,
   "id": "7b1efa06",
   "metadata": {},
   "outputs": [],
   "source": [
    "# 📝 Ejercicio 9\n",
    "# Crea un programa que pida al usuario que ingrese un número decimal y lo convierta en entero. Luego, convierte el entero en número complejo. Imprime ambos resultados.\n",
    "# Para que el usuario ingrese un número decimal, puedes usar input() y luego convertirlo a float. "
   ]
  }
 ],
 "metadata": {
  "language_info": {
   "name": "python"
  }
 },
 "nbformat": 4,
 "nbformat_minor": 5
}
