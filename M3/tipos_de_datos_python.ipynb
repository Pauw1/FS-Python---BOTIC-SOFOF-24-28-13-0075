{
 "cells": [
  {
   "cell_type": "markdown",
   "id": "f0da641c",
   "metadata": {},
   "source": [
    "# 🌟 Notebook: Tipos de Datos en Python\n",
    "En este notebook aprenderás a identificar y trabajar con los tipos de datos más comunes en Python: booleanos, números, cadenas, listas, tuplas y diccionarios.\n",
    "Además, practicarás funciones como type() y len(), y realizarás ejercicios prácticos para afianzar tu conocimiento.\n",
    "### NO USES LLMS PARA ESTE EJERCICIO. \n",
    "\n",
    "Es importante practicar estas cosas solo, sin ayudas, ya que son cosas fundamentales."
   ]
  },
  {
   "cell_type": "code",
   "execution_count": 4,
   "id": "f0255e06",
   "metadata": {},
   "outputs": [
    {
     "name": "stdout",
     "output_type": "stream",
     "text": [
      "C\n",
      "s\n"
     ]
    }
   ],
   "source": [
    "#accediendo a los caracteres de una cadena\n",
    "nombre = \"Carlos\"\n",
    "print(nombre[0])  # Imprime el primer carácter\n",
    "print(nombre[-1])  # Imprime el último carácter"
   ]
  },
  {
   "cell_type": "code",
   "execution_count": 7,
   "id": "3ddc4ce8",
   "metadata": {},
   "outputs": [
    {
     "name": "stdout",
     "output_type": "stream",
     "text": [
      "l\n",
      "arl\n",
      "r\n"
     ]
    }
   ],
   "source": [
    "print(nombre[-3])\n",
    "print(nombre[1:4])  # Imprime los caracteres del índice 1 al 3 (sin incluir el 4)\n",
    "print(nombre[-4])  # Imprime el cuarto carácter desde el final"
   ]
  },
  {
   "cell_type": "code",
   "execution_count": 3,
   "id": "fcb5df8d",
   "metadata": {},
   "outputs": [
    {
     "name": "stdout",
     "output_type": "stream",
     "text": [
      "l\n"
     ]
    }
   ],
   "source": [
    "print(nombre[3])"
   ]
  },
  {
   "cell_type": "code",
   "execution_count": null,
   "id": "c62ad0d0",
   "metadata": {},
   "outputs": [],
   "source": [
    "# ✅ Booleanos: representan valores de verdad True o False.\n",
    "mayor_edad = True\n",
    "tiene_bigote = False\n",
    "\n",
    "print(type(mayor_edad))\n",
    "print(type(tiene_bigote))"
   ]
  },
  {
   "cell_type": "code",
   "execution_count": 9,
   "id": "7097741b",
   "metadata": {},
   "outputs": [
    {
     "name": "stdout",
     "output_type": "stream",
     "text": [
      "<class 'bool'>\n"
     ]
    }
   ],
   "source": [
    "# 📝 Ejercicio 1\n",
    "# Crea una variable llamada esta_soleado con el valor False. Luego imprime su tipo.\n",
    "\n",
    "esta_soleado = False\n",
    "print(type(esta_soleado))"
   ]
  },
  {
   "cell_type": "code",
   "execution_count": 8,
   "id": "87fdb4bb",
   "metadata": {},
   "outputs": [
    {
     "name": "stdout",
     "output_type": "stream",
     "text": [
      "<class 'int'>\n",
      "<class 'float'>\n"
     ]
    }
   ],
   "source": [
    "# 🔢 Números: enteros (int) y decimales (float).\n",
    "edad = 25\n",
    "altura = 1.75\n",
    "\n",
    "print(type(edad))\n",
    "print(type(altura))"
   ]
  },
  {
   "cell_type": "code",
   "execution_count": 10,
   "id": "98b55937",
   "metadata": {},
   "outputs": [
    {
     "name": "stdout",
     "output_type": "stream",
     "text": [
      "<class 'int'>\n",
      "<class 'float'>\n"
     ]
    }
   ],
   "source": [
    "# 📝 Ejercicio 2\n",
    "# Crea dos variables: poblacion con el número 1200000, y tasa_crecimiento con el valor 1.3. Imprime sus tipos.\n",
    "\n",
    "poblacion = 1200000\n",
    "tasa_crecimiento = 1.3\n",
    "\n",
    "print(type(poblacion))\n",
    "print(type(tasa_crecimiento))"
   ]
  },
  {
   "cell_type": "code",
   "execution_count": 12,
   "id": "86ffc22f",
   "metadata": {},
   "outputs": [
    {
     "name": "stdout",
     "output_type": "stream",
     "text": [
      "<class 'str'>\n",
      "<class 'str'>\n",
      "Hola, Python 0075\n"
     ]
    }
   ],
   "source": [
    "# ✨ Strings: almacenan texto.\n",
    "mensaje = \"Hola, Python!\"\n",
    "print(type(mensaje))\n",
    "\n",
    "mensaje2 = \"Hola, Python 0075\"\n",
    "print(type(mensaje2))\n",
    "print(mensaje2) "
   ]
  },
  {
   "cell_type": "code",
   "execution_count": 13,
   "id": "a02a4380",
   "metadata": {},
   "outputs": [
    {
     "name": "stdout",
     "output_type": "stream",
     "text": [
      "Mi nombre es Paulina Rojas\n",
      "Mi nombre es Paulina Rojas\n"
     ]
    }
   ],
   "source": [
    "# 📝 Ejercicio 3\n",
    "# Crea una variable llamada nombre con tu nombre y muestra el mensaje: \"Mi nombre es ...\" concatenando la variable.\n",
    "#Tanto de manera simple como con f-strings (interpolación de cadenas).\n",
    "\n",
    "nombre = \"Paulina Rojas\"\n",
    "print(\"Mi nombre es \" + nombre)\n",
    "print(f\"Mi nombre es {nombre}\")"
   ]
  },
  {
   "cell_type": "code",
   "execution_count": null,
   "id": "a7641f42",
   "metadata": {},
   "outputs": [
    {
     "name": "stdout",
     "output_type": "stream",
     "text": [
      "['manzana', 'banana', 'cereza']\n",
      "['manzana', 'banana', 'cereza', 'kiwi']\n",
      "['manzana', 'cereza', 'kiwi']\n"
     ]
    }
   ],
   "source": [
    "# 📋 Listas: colecciones ordenadas y mutables.\n",
    "frutas = [\"manzana\", \"banana\", \"cereza\"]\n",
    "print(frutas)\n",
    "\n",
    "frutas.append(\"kiwi\") # Añade un elemento al final de la lista\n",
    "print(frutas)\n",
    "\n",
    "frutas.pop(1) # Elimina el elemento en la posición 1 (banana)\n",
    "print(frutas)\n"
   ]
  },
  {
   "cell_type": "code",
   "execution_count": 15,
   "id": "8c492d13",
   "metadata": {},
   "outputs": [
    {
     "name": "stdout",
     "output_type": "stream",
     "text": [
      "['rojo', 'azul', 'verde']\n",
      "['rojo', 'rosado', 'verde']\n",
      "['rojo', 'rosado', 'verde']\n",
      "['verde', 'rosado', 'rojo']\n",
      "['verde', 'rosado']\n",
      "['verde', 'rosado', 'amarillo']\n",
      "['verde', 'rosado', 'amarillo', 'morado', 'naranja']\n",
      "['verde', 'gris', 'rosado', 'amarillo', 'morado', 'naranja']\n",
      "['gris', 'rosado', 'amarillo', 'morado', 'naranja']\n",
      "[]\n",
      "['rojo', 'azul', 'verde']\n",
      "['rojo', 'azul', 'verde']\n",
      "['rojo', 'azul', 'verde']\n",
      "['rojo', 'azul', 'verde']\n"
     ]
    }
   ],
   "source": [
    "# 📝 Ejercicio 4\n",
    "# Crea una lista llamada colores con al menos 3 colores. \n",
    "# Cambia el segundo color por \"rosado\" y elimina el último elemento. Imprime la lista en cada paso.\n",
    "# Investiga como usar otras funciones de listas como sort() o reverse().\n",
    "# Revisa como acceder al último elemento de una lista.\n",
    "\n",
    "colores = [\"rojo\", \"azul\", \"verde\"]\n",
    "print(colores)\n",
    "\n",
    "colores[1] = \"rosado\"  # Cambia el segundo color por \"rosado\"\n",
    "print(colores)\n",
    "\n",
    "colores.sort()  # Ordena la lista alfabéticamente\n",
    "print(colores)\n",
    "\n",
    "colores.reverse()  # Invierte el orden de la lista\n",
    "print(colores)\n",
    "\n",
    "colores.pop()  # Elimina el último elemento\n",
    "print(colores)\n",
    "\n",
    "colores.append(\"amarillo\")  # Añade un nuevo color al final\n",
    "print(colores)\n",
    "\n",
    "colores.extend([\"morado\", \"naranja\"])  # Añade varios colores al final\n",
    "print(colores)\n",
    "\n",
    "colores.insert(1, \"gris\")  # Inserta \"gris\" en la posición 1\n",
    "print(colores)  \n",
    "\n",
    "colores.remove(\"verde\")  # Elimina \"verde\" de la lista\n",
    "print(colores)\n",
    "\n",
    "colores.clear()  # Elimina todos los elementos de la lista\n",
    "print(colores)  # Imprime la lista vacía\n",
    "\n",
    "colores = [\"rojo\", \"azul\", \"verde\"]  # Reinicia la lista para continuar con el ejercicio\n",
    "print(colores)\n",
    "\n",
    "colores.copy()  # Crea una copia de la lista (no modifica la original)\n",
    "print(colores)  # Imprime la lista original sin cambios\n",
    "\n",
    "colores.count(\"rojo\")  # Cuenta cuántas veces aparece \"rojo\" en la lista\n",
    "print(colores)  # Imprime la lista original sin cambios\n",
    "\n",
    "colores.index(\"azul\")  # Encuentra el índice del primer \"azul\" en la lista\n",
    "print(colores)  # Imprime la lista original sin cambios\n"
   ]
  },
  {
   "cell_type": "code",
   "execution_count": null,
   "id": "fde97d48",
   "metadata": {},
   "outputs": [
    {
     "name": "stdout",
     "output_type": "stream",
     "text": [
      "(10.0, 20.0)\n"
     ]
    },
    {
     "ename": "TypeError",
     "evalue": "'tuple' object does not support item assignment",
     "output_type": "error",
     "traceback": [
      "\u001b[31m---------------------------------------------------------------------------\u001b[39m",
      "\u001b[31mTypeError\u001b[39m                                 Traceback (most recent call last)",
      "\u001b[36mCell\u001b[39m\u001b[36m \u001b[39m\u001b[32mIn[17]\u001b[39m\u001b[32m, line 7\u001b[39m\n\u001b[32m      3\u001b[39m \u001b[38;5;28mprint\u001b[39m(coordenadas)\n\u001b[32m      5\u001b[39m \u001b[38;5;66;03m# Intentar modificar una tupla produce un error:\u001b[39;00m\n\u001b[32m----> \u001b[39m\u001b[32m7\u001b[39m \u001b[43mcoordenadas\u001b[49m\u001b[43m[\u001b[49m\u001b[32;43m0\u001b[39;49m\u001b[43m]\u001b[49m = \u001b[32m15.0\u001b[39m  \u001b[38;5;66;03m# Descomenta para ver el error\u001b[39;00m\n",
      "\u001b[31mTypeError\u001b[39m: 'tuple' object does not support item assignment"
     ]
    }
   ],
   "source": [
    "# 📦 Tuplas: colecciones ordenadas e inmutables.\n",
    "coordenadas = (10.0, 20.0)\n",
    "print(coordenadas)\n",
    "\n",
    "# Intentar modificar una tupla produce un error:\n",
    "\n",
    "coordenadas[0] = 15.0"
   ]
  },
  {
   "cell_type": "code",
   "execution_count": 19,
   "id": "af57ee53",
   "metadata": {},
   "outputs": [
    {
     "name": "stdout",
     "output_type": "stream",
     "text": [
      "36\n",
      "Programadora\n"
     ]
    }
   ],
   "source": [
    "# 📝 Ejercicio 5\n",
    "# Crea una tupla llamada datos_personales que contenga: tu nombre, tu edad y tu ciudad. Imprime el segundo elemento de la tupla. \n",
    "# Agrega dos elementos más a la tupla y accede al penúltimo elemento.\n",
    "\n",
    "datos_personales = (\"Paulina Rojas\", 36, \"Santiago\")\n",
    "\n",
    "print(datos_personales[1])  # Imprime el segundo elemento (edad)\n",
    "\n",
    "# Tupla no es mutable, por lo que no se pueden agregar elementos directamente.\n",
    "# Si necesitas modificarla, debes crear una nueva tupla.\n",
    "datos_personales = datos_personales + (\"Programadora\", \"Chile\")  # Agrega dos elementos más\n",
    "print(datos_personales[-2])  # Accede al penúltimo elemento (Ingeniera)"
   ]
  },
  {
   "cell_type": "code",
   "execution_count": null,
   "id": "7f6b91a4",
   "metadata": {},
   "outputs": [],
   "source": [
    "# 🔑 Diccionarios: almacenan pares clave-valor.\n",
    "persona = {'nombre': 'Ana', 'edad': 28, 'altura': 1.65}\n",
    "\n",
    "print(persona)\n",
    "\n",
    "persona['nombre'] = 'Laura'\n",
    "persona['ocupacion'] = 'Ingeniera'\n",
    "\n",
    "print(persona)\n",
    "\n",
    "altura = persona.pop('altura')\n",
    "print(f\"Altura eliminada: {altura}\")\n",
    "print(persona)"
   ]
  },
  {
   "cell_type": "code",
   "execution_count": 20,
   "id": "21a251bf",
   "metadata": {},
   "outputs": [
    {
     "name": "stdout",
     "output_type": "stream",
     "text": [
      "{'marca': 'Toyota', 'modelo': 'Corolla', 'año': 2020}\n",
      "{'marca': 'Toyota', 'modelo': 'Corolla', 'año': 2021}\n",
      "{'marca': 'Toyota', 'modelo': 'Corolla', 'año': 2021, 'color': 'Rojo'}\n"
     ]
    }
   ],
   "source": [
    "# 📝 Ejercicio 6\n",
    "# Crea un diccionario llamado auto con las claves marca, modelo y año. Luego actualiza el valor de año y agrega la clave color. Imprime el diccionario en cada paso.\n",
    "\n",
    "auto = {'marca': 'Toyota', 'modelo': 'Corolla', 'año': 2020}\n",
    "print(auto)\n",
    "\n",
    "auto['año'] = 2021  # Actualiza el año\n",
    "print(auto)\n",
    "\n",
    "auto['color'] = 'Rojo'  # Agrega el color\n",
    "print(auto)\n"
   ]
  },
  {
   "cell_type": "code",
   "execution_count": 21,
   "id": "d6280a44",
   "metadata": {},
   "outputs": [
    {
     "name": "stdout",
     "output_type": "stream",
     "text": [
      "<class 'list'>\n",
      "4\n",
      "<class 'str'>\n",
      "22\n"
     ]
    }
   ],
   "source": [
    "# 🔎 Funciones type() y len():\n",
    "# type() devuelve el tipo de dato; len() devuelve la longitud de objetos iterables.\n",
    "lista_ejemplo = [1, 2, 3, 4]\n",
    "texto = \"Programar es divertido\"\n",
    "\n",
    "print(type(lista_ejemplo))\n",
    "print(len(lista_ejemplo))\n",
    "\n",
    "print(type(texto))\n",
    "print(len(texto))"
   ]
  },
  {
   "cell_type": "code",
   "execution_count": 22,
   "id": "b8e6c976",
   "metadata": {},
   "outputs": [
    {
     "name": "stdout",
     "output_type": "stream",
     "text": [
      "5\n",
      "<class 'int'>\n"
     ]
    }
   ],
   "source": [
    "# 📝 Ejercicio 7\n",
    "# Crea una lista con al menos 5 elementos. Imprime su longitud y luego verifica el tipo de su longitud usando type().\n",
    "\n",
    "lista_ejemplo = [1, 2, 3, 4, 5]\n",
    "\n",
    "print(len(lista_ejemplo))  # Imprime la longitud de la lista\n",
    "print(type(len(lista_ejemplo)))  # Verifica el tipo de la longitud\n"
   ]
  },
  {
   "cell_type": "code",
   "execution_count": 24,
   "id": "fd5c0e91",
   "metadata": {},
   "outputs": [
    {
     "name": "stdout",
     "output_type": "stream",
     "text": [
      "Número aleatorio entre 1 y 100: 11\n"
     ]
    }
   ],
   "source": [
    "# 🎲 Números aleatorios: con el módulo random puedes generar números al azar.\n",
    "import random\n",
    "\n",
    "num_aleatorio = random.randint(1, 100)\n",
    "print(f\"Número aleatorio entre 1 y 100: {num_aleatorio}\")"
   ]
  },
  {
   "cell_type": "code",
   "execution_count": null,
   "id": "622cb4ab",
   "metadata": {},
   "outputs": [
    {
     "ename": "NameError",
     "evalue": "name 'random' is not defined",
     "output_type": "error",
     "traceback": [
      "\u001b[31m---------------------------------------------------------------------------\u001b[39m",
      "\u001b[31mNameError\u001b[39m                                 Traceback (most recent call last)",
      "\u001b[36mCell\u001b[39m\u001b[36m \u001b[39m\u001b[32mIn[23]\u001b[39m\u001b[32m, line 4\u001b[39m\n\u001b[32m      1\u001b[39m \u001b[38;5;66;03m# 📝 Ejercicio 8 (mediana complejidad)\u001b[39;00m\n\u001b[32m      2\u001b[39m \u001b[38;5;66;03m# Crea un programa que genere un número aleatorio entre 1 y 10. Luego, solicita al usuario que adivine el número. Si el número es correcto, muestra \"¡Adivinaste!\", si no, muestra el número correcto.\u001b[39;00m\n\u001b[32m----> \u001b[39m\u001b[32m4\u001b[39m numero_aleatorio = \u001b[43mrandom\u001b[49m.randint(\u001b[32m1\u001b[39m, \u001b[32m10\u001b[39m)\n\u001b[32m      5\u001b[39m usuario_adivina = \u001b[38;5;28mint\u001b[39m(\u001b[38;5;28minput\u001b[39m(\u001b[33m\"\u001b[39m\u001b[33mAdivina el número entre 1 y 10: \u001b[39m\u001b[33m\"\u001b[39m))\n\u001b[32m      6\u001b[39m \u001b[38;5;28;01mif\u001b[39;00m usuario_adivina == numero_aleatorio:\n",
      "\u001b[31mNameError\u001b[39m: name 'random' is not defined"
     ]
    }
   ],
   "source": [
    "# 📝 Ejercicio 8 (mediana complejidad)\n",
    "# Crea un programa que genere un número aleatorio entre 1 y 10. Luego, solicita al usuario que adivine el número. Si el número es correcto, muestra \"¡Adivinaste!\", si no, muestra el número correcto.\n",
    "\n",
    "\n",
    "    "
   ]
  },
  {
   "cell_type": "code",
   "execution_count": null,
   "id": "ca9a5438",
   "metadata": {},
   "outputs": [],
   "source": [
    "# 🔄 Conversión de tipos: int(), float() y complex().\n",
    "entero = 42\n",
    "decimal = float(entero)\n",
    "print(decimal)\n",
    "\n",
    "decimal2 = 15.8\n",
    "entero2 = int(decimal2)\n",
    "print(entero2)\n",
    "\n",
    "entero3 = 7\n",
    "complejo = complex(entero3)\n",
    "print(complejo)"
   ]
  },
  {
   "cell_type": "code",
   "execution_count": null,
   "id": "7b1efa06",
   "metadata": {},
   "outputs": [],
   "source": [
    "# 📝 Ejercicio 9\n",
    "# Crea un programa que pida al usuario que ingrese un número decimal y lo convierta en entero. Luego, convierte el entero en número complejo. Imprime ambos resultados.\n",
    "# Para que el usuario ingrese un número decimal, puedes usar input() y luego convertirlo a float. "
   ]
  }
 ],
 "metadata": {
  "kernelspec": {
   "display_name": "Python 3",
   "language": "python",
   "name": "python3"
  },
  "language_info": {
   "codemirror_mode": {
    "name": "ipython",
    "version": 3
   },
   "file_extension": ".py",
   "mimetype": "text/x-python",
   "name": "python",
   "nbconvert_exporter": "python",
   "pygments_lexer": "ipython3",
   "version": "3.13.5"
  }
 },
 "nbformat": 4,
 "nbformat_minor": 5
}
