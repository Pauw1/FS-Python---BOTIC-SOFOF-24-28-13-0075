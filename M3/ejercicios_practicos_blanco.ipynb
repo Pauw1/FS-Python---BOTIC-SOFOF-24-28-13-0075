{
 "cells": [
  {
   "cell_type": "markdown",
   "metadata": {},
   "source": [
    "# Ejercicios prácticos: Cadenas, Estructuras de Datos y Control de Flujo\n",
    "\n",
    "En este notebook desarrollarás ejercicios que integran los temas trabajados: manejo de cadenas, listas/tuplas/sets/diccionarios y estructuras de control como if, for y while."
   ]
  },
  {
   "cell_type": "markdown",
   "metadata": {},
   "source": [
    "## Ejercicios sobre cadenas"
   ]
  },
  {
   "cell_type": "markdown",
   "metadata": {},
   "source": [
    "**Ejercicio 1**\n",
    "\n",
    "Pide al usuario su nombre y devuelve un mensaje de saludo en mayúsculas."
   ]
  },
  {
   "cell_type": "code",
   "execution_count": null,
   "metadata": {},
   "outputs": [],
   "source": [
    "nombre = input(\"Introduce tu nombre: \")\n",
    "print(f\"¡HOLA, {nombre.upper()}!\")"
   ]
  },
  {
   "cell_type": "markdown",
   "metadata": {},
   "source": [
    "**Ejercicio 2**\n",
    "\n",
    "Cuenta cuántas veces aparece la letra \"a\" en la frase: \"Aprender Python es una gran habilidad para el futuro.\""
   ]
  },
  {
   "cell_type": "code",
   "execution_count": null,
   "metadata": {},
   "outputs": [],
   "source": [
    "frase = \"Aprender Python es una gran habilidad para el futuro.\"\n",
    "contador_a = frase.count(\"a\")\n",
    "print(f\"La letra 'a' aparece {contador_a} veces en la frase.\")"
   ]
  },
  {
   "cell_type": "markdown",
   "metadata": {},
   "source": [
    "**Ejercicio 3**\n",
    "\n",
    "Transforma la frase \"Python es divertido y poderoso\" en una lista de palabras usando split(), y luego vuelve a unirlas separadas por guiones."
   ]
  },
  {
   "cell_type": "code",
   "execution_count": null,
   "metadata": {},
   "outputs": [],
   "source": [
    "frase= \"Python es divertido y poderoso\"\n",
    "split_frase = frase.split()"
   ]
  },
  {
   "cell_type": "markdown",
   "metadata": {},
   "source": [
    "## Ejercicios sobre listas y tuplas"
   ]
  },
  {
   "cell_type": "markdown",
   "metadata": {},
   "source": [
    "**Ejercicio 4**\n",
    "\n",
    "Crea una lista con los números del 1 al 5. Usa append() para agregar el número 6 y remove() para eliminar el 3."
   ]
  },
  {
   "cell_type": "markdown",
   "metadata": {},
   "source": [
    "**Ejercicio 5**\n",
    "\n",
    "Crea una tupla con los días de la semana y muestra el tercer elemento."
   ]
  },
  {
   "cell_type": "markdown",
   "metadata": {},
   "source": [
    "**Ejercicio 6**\n",
    "\n",
    "Usa un set para almacenar los colores \"rojo\", \"azul\", \"rojo\", \"verde\", y muestra el set para comprobar que no hay elementos repetidos."
   ]
  },
  {
   "cell_type": "markdown",
   "metadata": {},
   "source": [
    "**Ejercicio 7**\n",
    "\n",
    "Crea un diccionario con claves: \"nombre\", \"edad\" y \"ciudad\". Asigna valores ficticios y muestra el valor asociado a la clave \"ciudad\"."
   ]
  },
  {
   "cell_type": "markdown",
   "metadata": {},
   "source": [
    "## Ejercicios de control de flujo"
   ]
  },
  {
   "cell_type": "markdown",
   "metadata": {},
   "source": [
    "**Ejercicio 8**\n",
    "\n",
    "Pide un número entero al usuario y determina si es positivo, negativo o cero usando if, elif y else."
   ]
  },
  {
   "cell_type": "markdown",
   "metadata": {},
   "source": [
    "**Ejercicio 9**\n",
    "\n",
    "Usa un ciclo for para imprimir los números pares del 2 al 20."
   ]
  },
  {
   "cell_type": "code",
   "execution_count": null,
   "metadata": {},
   "outputs": [
    {
     "name": "stdout",
     "output_type": "stream",
     "text": [
      "2\n",
      "3\n",
      "4\n",
      "5\n",
      "6\n",
      "7\n",
      "8\n",
      "9\n",
      "10\n",
      "11\n",
      "12\n",
      "13\n",
      "14\n",
      "15\n",
      "16\n",
      "17\n",
      "18\n",
      "19\n"
     ]
    }
   ],
   "source": [
    "for num in range(2, 20):\n",
    "    print(num)"
   ]
  },
  {
   "cell_type": "markdown",
   "metadata": {},
   "source": [
    "**Ejercicio 10**\n",
    "\n",
    "Usa un ciclo while para pedir números al usuario hasta que ingrese un número mayor a 100. Cuando lo haga, imprime \"¡Número grande detectado!\"."
   ]
  },
  {
   "cell_type": "markdown",
   "metadata": {},
   "source": []
  },
  {
   "cell_type": "code",
   "execution_count": 2,
   "metadata": {},
   "outputs": [
    {
     "name": "stdout",
     "output_type": "stream",
     "text": [
      "¡Número grande detectado!\n"
     ]
    }
   ],
   "source": [
    "while True:\n",
    "    num = int(input(\"Introduce un número: \"))\n",
    "    if num > 100:\n",
    "        print(\"¡Número grande detectado!\")\n",
    "        break"
   ]
  }
 ],
 "metadata": {
  "kernelspec": {
   "display_name": "Python 3",
   "language": "python",
   "name": "python3"
  },
  "language_info": {
   "codemirror_mode": {
    "name": "ipython",
    "version": 3
   },
   "file_extension": ".py",
   "mimetype": "text/x-python",
   "name": "python",
   "nbconvert_exporter": "python",
   "pygments_lexer": "ipython3",
   "version": "3.13.5"
  }
 },
 "nbformat": 4,
 "nbformat_minor": 4
}
